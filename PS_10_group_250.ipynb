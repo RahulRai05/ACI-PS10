{
 "cells": [
  {
   "cell_type": "markdown",
   "id": "03f9b3db-1029-4d0a-b646-d12855e197c6",
   "metadata": {},
   "source": [
    "------------------------------------------- \n",
    "A* implementaion for PS10 by group no. 250\n",
    "-------------------------------------------\n"
   ]
  },
  {
   "cell_type": "markdown",
   "id": "d14c5da4-37b7-450f-afc1-f331e8e4913d",
   "metadata": {},
   "source": [
    "\n",
    "| S. No. | Name        | ID         | Contribution % |\n",
    "|--------|-------------|------------|----------------|\n",
    "| 1      | Rahul       | 2024ad05284| 100            |\n",
    "| 2      | Brijesh     | 2024ad05270| 100            |\n",
    "| 3      | Mandan      | 2024ad05331| 100            |\n",
    "| 4      | Gayathri    | 2024ad05359| 100            |\n",
    "| 5      | Pranav Deep | 2024ad05376| 100            |"
   ]
  },
  {
   "cell_type": "code",
   "execution_count": 3,
   "id": "0ebc5a14-916a-4284-8b70-2fa15a684aac",
   "metadata": {},
   "outputs": [],
   "source": [
    "import heapq\n",
    "\n",
    "# Grid size\n",
    "rows , cols = 6, 7\n",
    "\n",
    "# start and goal location\n",
    "start, goal = (3,0), (3,6)\n",
    "\n",
    "# Movement direction : East, west, north, south\n",
    "movement = [(1,0), (-1,0), (0,-1), (0,1)]\n",
    "\n",
    "# cost\n",
    "cell_move_cost = 3\n",
    "additional_east_move_cost = 5\n"
   ]
  },
  {
   "cell_type": "code",
   "execution_count": null,
   "id": "21ef454f-8f1b-436a-8bd0-729cfa6628bf",
   "metadata": {},
   "outputs": [],
   "source": [
    "# Define walls position\n"
   ]
  },
  {
   "cell_type": "code",
   "execution_count": null,
   "id": "c0a06eaa-1b94-43cd-9638-392d3efadf04",
   "metadata": {},
   "outputs": [],
   "source": [
    "# Heuristic function\n",
    "def heuristic_caclc (g, h, w):\n",
    "    return g+w*h"
   ]
  }
 ],
 "metadata": {
  "kernelspec": {
   "display_name": "Python 3 (ipykernel)",
   "language": "python",
   "name": "python3"
  },
  "language_info": {
   "codemirror_mode": {
    "name": "ipython",
    "version": 3
   },
   "file_extension": ".py",
   "mimetype": "text/x-python",
   "name": "python",
   "nbconvert_exporter": "python",
   "pygments_lexer": "ipython3",
   "version": "3.10.5"
  }
 },
 "nbformat": 4,
 "nbformat_minor": 5
}
