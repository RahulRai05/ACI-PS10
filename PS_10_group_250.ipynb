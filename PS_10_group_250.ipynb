{
 "cells": [
  {
   "cell_type": "markdown",
   "id": "03f9b3db-1029-4d0a-b646-d12855e197c6",
   "metadata": {},
   "source": [
    "------------------------------------------- \n",
    "A* implementaion for PS10 by group no. 250\n",
    "-------------------------------------------\n"
   ]
  },
  {
   "cell_type": "markdown",
   "id": "d14c5da4-37b7-450f-afc1-f331e8e4913d",
   "metadata": {},
   "source": [
    "\n",
    "| S. No. | Name        | ID         | Contribution % |\n",
    "|--------|-------------|------------|----------------|\n",
    "| 1      | Rahul       | 2024ad05284| 100            |\n",
    "| 2      | Brijesh     | 2024ad05270| 100            |\n",
    "| 3      | Mandan      | 2024ad05331| 100            |\n",
    "| 4      | Gayathri    | 2024ad05359| 100            |\n",
    "| 5      | Pranav Deep | 2024ad05376| 100            |"
   ]
  },
  {
   "cell_type": "code",
   "execution_count": 1,
   "id": "0ebc5a14-916a-4284-8b70-2fa15a684aac",
   "metadata": {},
   "outputs": [],
   "source": [
    "import heapq\n",
    "\n",
    "# Grid size\n",
    "rows , cols = 6, 7\n",
    "\n",
    "# start and goal location\n",
    "start, goal = (3,0), (3,6)\n"
   ]
  },
  {
   "cell_type": "code",
   "execution_count": null,
   "id": "5eb47b42",
   "metadata": {
    "vscode": {
     "languageId": "markdown"
    }
   },
   "outputs": [],
   "source": [
    "# A* Algorithm Implementation Documentation\n",
    "\n",
    "## Overview\n",
    "This notebook implements the A* pathfinding algorithm to solve a maze navigation problem. The algorithm finds the optimal path from a start position to a goal position while considering movement costs and heuristic estimates.\n",
    "\n",
    "## Problem Setup\n",
    "- **Grid Size**: 6 rows × 7 columns\n",
    "- **Start Position**: (3, 0) - Row 3, Column 0\n",
    "- **Goal Position**: (3, 6) - Row 3, Column 6\n",
    "- **Movement Cost**: Base cost of 3 units per move\n",
    "- **East Penalty**: Additional cost of 5 units when moving east (right)\n",
    "\n",
    "## Key Components\n",
    "\n",
    "### 1. Maze Representation\n",
    "The maze is represented using two separate 2D arrays:\n",
    "- `horizontal_walls`: Tracks walls between vertically adjacent cells\n",
    "- `vertical_walls`: Tracks walls between horizontally adjacent cells\n",
    "\n",
    "### 2. Cost Function\n",
    "- **Base Movement Cost**: 3 units for any valid move\n",
    "- **Eastward Movement Penalty**: Additional 5 units (total 8 units when moving east)\n",
    "- This creates a preference for paths that minimize eastward movement\n",
    "\n",
    "### 3. Heuristic Function\n",
    "- Uses **Manhattan Distance**: |x₁ - x₂| + |y₁ - y₂|\n",
    "- Weighted by parameter `w` to control algorithm behavior:\n",
    "  - `w = 1.0`: Optimal A* (guaranteed shortest path)\n",
    "  - `w > 1.0`: Weighted A* (faster but potentially suboptimal)\n",
    "\n",
    "## Algorithm Components"
   ]
  },
  {
   "cell_type": "code",
   "execution_count": 2,
   "id": "21ef454f-8f1b-436a-8bd0-729cfa6628bf",
   "metadata": {},
   "outputs": [],
   "source": [
    "# Assume there are no walls\n",
    "\n",
    "horizontal_walls = [[False for _ in range(cols)] for _ in range(rows)]\n",
    "vertical_walls = [[False for _ in range(cols)] for _ in range(rows)]\n"
   ]
  },
  {
   "cell_type": "markdown",
   "id": "026ff29b",
   "metadata": {},
   "source": [
    "## Wall Configuration\n",
    "\n",
    "The maze walls are configured using two boolean matrices:\n",
    "\n",
    "### Horizontal Walls\n",
    "- `horizontal_walls[i][j] = True` means there's a wall **below** cell (i,j)\n",
    "- Prevents movement from (i,j) to (i+1,j)\n",
    "\n",
    "### Vertical Walls  \n",
    "- `vertical_walls[i][j] = True` means there's a wall **to the right** of cell (i,j)\n",
    "- Prevents movement from (i,j) to (i,j+1)\n",
    "\n",
    "### Wall Layout\n",
    "The current configuration creates a specific maze pattern with strategic wall placements to test the pathfinding algorithm's effectiveness."
   ]
  },
  {
   "cell_type": "code",
   "execution_count": 3,
   "id": "42fc6e27-f0fa-4692-988b-abf2c27f782f",
   "metadata": {},
   "outputs": [],
   "source": [
    "# Add Horizontal wall's positions\n",
    "horizontal_walls[2][0]=True\n",
    "horizontal_walls[3][1]=True\n",
    "horizontal_walls[4][1]=True\n",
    "horizontal_walls[4][2]=True\n",
    "horizontal_walls[4][3]=True\n",
    "horizontal_walls[4][4]=True\n",
    "horizontal_walls[4][5]=True\n"
   ]
  },
  {
   "cell_type": "code",
   "execution_count": 4,
   "id": "c7e9a42e-8909-4ea9-9d52-4006d247720b",
   "metadata": {},
   "outputs": [],
   "source": [
    "# Add Vertical wall's positions\n",
    "vertical_walls[1][0]=True\n",
    "vertical_walls[2][0]=True\n",
    "vertical_walls[4][0]=True\n",
    "\n",
    "vertical_walls[1][1]=True\n",
    "vertical_walls[2][1]=True\n",
    "vertical_walls[3][1]=True\n",
    "\n",
    "vertical_walls[0][2]=True\n",
    "vertical_walls[1][2]=True\n",
    "vertical_walls[2][2]=True\n",
    "vertical_walls[3][2]=True\n",
    "\n",
    "vertical_walls[1][3]=True\n",
    "vertical_walls[2][3]=True\n",
    "vertical_walls[3][3]=True\n",
    "vertical_walls[4][3]=True\n",
    "\n",
    "vertical_walls[0][4]=True\n",
    "vertical_walls[1][4]=True\n",
    "vertical_walls[2][4]=True\n",
    "vertical_walls[3][4]=True\n",
    "\n",
    "vertical_walls[1][5]=True\n",
    "vertical_walls[2][5]=True\n",
    "vertical_walls[3][5]=True\n",
    "vertical_walls[4][5]=True"
   ]
  },
  {
   "cell_type": "markdown",
   "id": "f1451b0d",
   "metadata": {},
   "source": [
    "## Core Algorithm Functions\n",
    "\n",
    "### Distance and Heuristic Functions\n",
    "The following functions implement the mathematical foundation of the A* algorithm:"
   ]
  },
  {
   "cell_type": "code",
   "execution_count": 5,
   "id": "854b8cd9-c70f-48b4-9f41-5d386b00b38e",
   "metadata": {},
   "outputs": [],
   "source": [
    "# Manhattan distance\n",
    "def manhattan_distance(cell1, cell2):\n",
    "    return abs(cell1[0]-cell2[0]) + abs(cell1[1]-cell2[1])"
   ]
  },
  {
   "cell_type": "code",
   "execution_count": 6,
   "id": "c0a06eaa-1b94-43cd-9638-392d3efadf04",
   "metadata": {},
   "outputs": [],
   "source": [
    "# Heuristic function\n",
    "def heuristic_caclc (cell1, cell2, w):\n",
    "    return w*manhattan_distance(cell1, cell2)"
   ]
  },
  {
   "cell_type": "markdown",
   "id": "1332eeee",
   "metadata": {},
   "source": [
    "### Movement and Navigation Functions\n",
    "These functions handle cell connectivity and movement costs:"
   ]
  },
  {
   "cell_type": "code",
   "execution_count": 7,
   "id": "5b923020-0cf2-4a5b-a441-d10612de11cd",
   "metadata": {},
   "outputs": [],
   "source": [
    "# Add a neighbor if there is no wall in that direction\n",
    "def get_neighbors(row, col):\n",
    "    neighbors = []\n",
    "    if row > 0 and not horizontal_walls[row - 1][col]:  # check North neighbor cell\n",
    "        neighbors.append((row - 1, col))\n",
    "    if row < rows - 1 and not horizontal_walls[row][col]:  # check South neighbor cell\n",
    "        neighbors.append((row + 1, col))\n",
    "    if col > 0 and not vertical_walls[row][col - 1]:  # check West neighbor cell\n",
    "        neighbors.append((row, col - 1))\n",
    "    if col < cols - 1 and not vertical_walls[row][col]:  # check East neighbor cell\n",
    "        neighbors.append((row, col + 1))\n",
    "    return neighbors"
   ]
  },
  {
   "cell_type": "code",
   "execution_count": 8,
   "id": "3ee87ee7-32f9-4fbc-bc28-336bffe57078",
   "metadata": {},
   "outputs": [],
   "source": [
    "# Cost of transition\n",
    "def transition_cost(current, neighbor):\n",
    "    default_transition_cost = 3\n",
    "    if (neighbor[1] > current[1]):\n",
    "        default_transition_cost+=5 # Additional cost moving east\n",
    "        \n",
    "    return default_transition_cost\n",
    "            "
   ]
  },
  {
   "cell_type": "markdown",
   "id": "db081c47",
   "metadata": {},
   "source": [
    "## Main A* Algorithm\n",
    "\n",
    "The core A* implementation follows these key steps:\n",
    "\n",
    "### Algorithm Flow:\n",
    "1. **Initialization**: Start with the initial position in the open list\n",
    "2. **Main Loop**: Continue until goal is found or open list is empty\n",
    "3. **Node Selection**: Pop the node with lowest f-cost (f = g + h)\n",
    "4. **Goal Check**: Return path if current node is the goal\n",
    "5. **Neighbor Exploration**: Examine all valid neighboring cells\n",
    "6. **Cost Calculation**: Compute g-cost (actual cost) and f-cost (total estimated cost)\n",
    "7. **Path Tracking**: Maintain parent relationships for path reconstruction\n",
    "\n",
    "### Key Data Structures:\n",
    "- **open_list**: Priority queue of nodes to explore (heapq)\n",
    "- **comes_from**: Dictionary tracking parent relationships\n",
    "- **g_cost**: Dictionary storing the actual cost to reach each node\n",
    "\n",
    "### Cost Function Details:\n",
    "- **g(n)**: Actual cost from start to node n\n",
    "- **h(n)**: Heuristic estimate from node n to goal (Manhattan distance × weight)\n",
    "- **f(n)**: Total estimated cost = g(n) + h(n)"
   ]
  },
  {
   "cell_type": "code",
   "execution_count": 9,
   "id": "41ca1e3d-bf56-4153-9c8b-21b434e346a2",
   "metadata": {},
   "outputs": [],
   "source": [
    "# A* implemntation \n",
    "def find_path_with_A_star (start, goal, w =1.0):\n",
    "    open_list = []\n",
    "    heapq.heappush(open_list, (0 + heuristic_caclc(start, goal, w), 0, start))\n",
    "\n",
    "    comes_from = {}\n",
    "    g_cost = {start: 0}\n",
    "\n",
    "    while open_list:\n",
    "        _,current_g,current = heapq.heappop(open_list)\n",
    "\n",
    "        # Goal is found retrun path and cost\n",
    "        if current == goal:\n",
    "            path = []\n",
    "            while current in comes_from:\n",
    "                path.append(current)\n",
    "                current = comes_from[current]\n",
    "            path.append(start) \n",
    "            # Reverse the path to see from start to goal\n",
    "            path.reverse() \n",
    "            return path, g_cost[goal]\n",
    "            \n",
    "        # Explore all the neighbors\n",
    "        for neighbor in get_neighbors(*current): \n",
    "            cost = transition_cost(current, neighbor)\n",
    "            temp_g = current_g + cost\n",
    "            # Find best possible neighbor to be explored next\n",
    "            if neighbor not in g_cost or temp_g < g_cost[neighbor]: \n",
    "                g_cost[neighbor] = temp_g\n",
    "                f_cost = temp_g + heuristic_caclc(neighbor, goal, w)\n",
    "                heapq.heappush(open_list, (f_cost, temp_g, neighbor)) \n",
    "                comes_from[neighbor] = current\n",
    "\n",
    "    return None, None\n",
    "            "
   ]
  },
  {
   "cell_type": "code",
   "execution_count": 10,
   "id": "889f1664-3b25-44d9-817b-2f99bb3d69f7",
   "metadata": {},
   "outputs": [],
   "source": [
    "# Print path found and associated cost \n",
    "def print_path_cost(start, goal, w):\n",
    "    path, total_cost = find_path_with_A_star(start, goal, w)\n",
    "    if path:\n",
    "        print(\"Path found:\")\n",
    "        print(\" -> \".join(map(str, path)))\n",
    "        print(f\"Total cost: {total_cost}\")\n",
    "    else:\n",
    "        print(\"No path found.\")    "
   ]
  },
  {
   "cell_type": "markdown",
   "id": "d2bc467a",
   "metadata": {},
   "source": [
    "## Execution and Results\n",
    "\n",
    "### Testing Scenarios\n",
    "\n",
    "The implementation is tested with two different weight values to demonstrate the trade-off between optimality and speed:\n",
    "\n",
    "#### Scenario 1: w = 1.0 (Optimal A*)\n",
    "- **Behavior**: Guarantees the shortest path\n",
    "- **Performance**: May explore more nodes\n",
    "- **Use Case**: When optimality is crucial\n",
    "\n",
    "#### Scenario 2: w = 2.5 (Weighted A*)\n",
    "- **Behavior**: Biases toward the goal, potentially finding suboptimal paths\n",
    "- **Performance**: Generally faster, explores fewer nodes\n",
    "- **Use Case**: When speed is more important than optimality\n",
    "\n",
    "### Output Format\n",
    "For each scenario, the results show:\n",
    "- **Path**: Sequence of (row, col) coordinates from start to goal\n",
    "- **Total Cost**: Sum of all movement costs along the path\n",
    "\n",
    "### Cost Analysis\n",
    "- Each move has a base cost of 3\n",
    "- Eastward moves incur an additional penalty of 5 (total cost = 8)\n",
    "- This penalty encourages the algorithm to find paths that minimize rightward movement"
   ]
  },
  {
   "cell_type": "code",
   "execution_count": 11,
   "id": "3c9ebe84-c27f-4a73-bc4d-00b93e5079e1",
   "metadata": {},
   "outputs": [
    {
     "name": "stdout",
     "output_type": "stream",
     "text": [
      "Path found:\n",
      "(3, 0) -> (4, 0) -> (5, 0) -> (5, 1) -> (5, 2) -> (5, 3) -> (5, 4) -> (5, 5) -> (5, 6) -> (4, 6) -> (3, 6)\n",
      "Total cost: 60\n"
     ]
    }
   ],
   "source": [
    "# Find path and cost when w = 1.0\n",
    "print_path_cost(start, goal, 1.0)"
   ]
  },
  {
   "cell_type": "code",
   "execution_count": 12,
   "id": "8710cc40-d4cc-4a4b-9c55-ededb1ef9fb9",
   "metadata": {},
   "outputs": [
    {
     "name": "stdout",
     "output_type": "stream",
     "text": [
      "Path found:\n",
      "(3, 0) -> (4, 0) -> (5, 0) -> (5, 1) -> (5, 2) -> (5, 3) -> (5, 4) -> (5, 5) -> (5, 6) -> (4, 6) -> (3, 6)\n",
      "Total cost: 60\n"
     ]
    }
   ],
   "source": [
    "# Find path and cost when w = 2.5\n",
    "print_path_cost(start, goal, 2.5)"
   ]
  },
  {
   "cell_type": "code",
   "execution_count": null,
   "id": "dfcdb44d-0bbd-49a5-ba17-caa3b1d977c3",
   "metadata": {},
   "outputs": [],
   "source": [
    "# Technical Details and Analysis\n",
    "\n",
    "## Algorithm Complexity\n",
    "\n",
    "### Time Complexity\n",
    "- **Best Case**: O(b^d) where b is branching factor, d is depth\n",
    "- **Worst Case**: O(b^d) in the worst case, but typically much better with good heuristics\n",
    "- **Average Case**: Depends on heuristic quality and maze structure\n",
    "\n",
    "### Space Complexity\n",
    "- **O(b^d)** for storing nodes in open and closed lists\n",
    "- **Additional O(n)** for tracking parent relationships and costs\n",
    "\n",
    "## Implementation Features\n",
    "\n",
    "### Optimizations\n",
    "1. **Priority Queue**: Using `heapq` for efficient node selection\n",
    "2. **Cost Tracking**: Avoiding re-exploration of expensive paths\n",
    "3. **Early Termination**: Stops immediately when goal is found\n",
    "\n",
    "### Design Decisions\n",
    "1. **Wall Representation**: Separate horizontal and vertical wall arrays for clear directionality\n",
    "2. **Cost Structure**: Asymmetric costs to model real-world preferences\n",
    "3. **Weighted Heuristic**: Configurable weight parameter for performance tuning\n",
    "\n",
    "## Expected Behavior\n",
    "\n",
    "### Path Characteristics\n",
    "- The algorithm should prefer paths that minimize eastward movement due to the penalty\n",
    "- Optimal paths will balance total distance with movement cost penalties\n",
    "- Different weight values may produce different paths with varying costs\n",
    "\n",
    "### Performance Considerations\n",
    "- Higher weights (w > 1.0) trade optimality for speed\n",
    "- The maze structure significantly impacts the number of nodes explored\n",
    "- The east penalty creates interesting path dynamics, potentially favoring circuitous routes\n",
    "\n",
    "## Usage Notes\n",
    "\n",
    "### Modifying the Configuration\n",
    "- **Change Start/Goal**: Update the `start` and `goal` variables in cell 3\n",
    "- **Modify Walls**: Edit the wall configuration in cells 5-7\n",
    "- **Adjust Costs**: Modify `transition_cost()` function for different movement penalties\n",
    "- **Test Different Weights**: Change the weight parameter in the execution cells\n",
    "\n",
    "### Extension Possibilities\n",
    "- Add diagonal movement capabilities\n",
    "- Implement bidirectional A* for improved performance\n",
    "- Add visualization of the maze and solution path\n",
    "- Compare with other pathfinding algorithms (Dijkstra, BFS)\n",
    "\n",
    "---\n",
    "\n",
    "*This implementation demonstrates the core concepts of the A* algorithm while incorporating practical considerations like asymmetric movement costs and configurable heuristic weighting.*"
   ]
  }
 ],
 "metadata": {
  "kernelspec": {
   "display_name": "Python [conda env:base] *",
   "language": "python",
   "name": "conda-base-py"
  },
  "language_info": {
   "codemirror_mode": {
    "name": "ipython",
    "version": 3
   },
   "file_extension": ".py",
   "mimetype": "text/x-python",
   "name": "python",
   "nbconvert_exporter": "python",
   "pygments_lexer": "ipython3",
   "version": "3.13.5"
  }
 },
 "nbformat": 4,
 "nbformat_minor": 5
}
