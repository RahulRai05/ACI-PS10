{
 "cells": [
  {
   "cell_type": "markdown",
   "id": "03f9b3db-1029-4d0a-b646-d12855e197c6",
   "metadata": {},
   "source": [
    "------------------------------------------- \n",
    "A* implementaion for PS10 by group no. 250\n",
    "-------------------------------------------\n"
   ]
  },
  {
   "cell_type": "markdown",
   "id": "d14c5da4-37b7-450f-afc1-f331e8e4913d",
   "metadata": {},
   "source": [
    "\n",
    "| S. No. | Name        | ID         | Contribution % |\n",
    "|--------|-------------|------------|----------------|\n",
    "| 1      | Rahul       | 2024ad05284| 100            |\n",
    "| 2      | Brijesh     | 2024ad05270| 100            |\n",
    "| 3      | Mandan      | 2024ad05331| 100            |\n",
    "| 4      | Gayathri    | 2024ad05359| 100            |\n",
    "| 5      | Pranav Deep | 2024ad05376| 100            |"
   ]
  },
  {
   "cell_type": "code",
   "execution_count": 96,
   "id": "0ebc5a14-916a-4284-8b70-2fa15a684aac",
   "metadata": {},
   "outputs": [],
   "source": [
    "import heapq\n",
    "\n",
    "# Grid size\n",
    "rows , cols = 6, 7\n",
    "\n",
    "# start and goal location\n",
    "start, goal = (3,0), (3,6)\n"
   ]
  },
  {
   "cell_type": "code",
   "execution_count": 97,
   "id": "21ef454f-8f1b-436a-8bd0-729cfa6628bf",
   "metadata": {},
   "outputs": [],
   "source": [
    "# Assume there are no walls\n",
    "\n",
    "horizontal_walls = [[False for _ in range(cols)] for _ in range(rows)]\n",
    "vertical_walls = [[False for _ in range(cols)] for _ in range(rows)]\n"
   ]
  },
  {
   "cell_type": "code",
   "execution_count": 98,
   "id": "42fc6e27-f0fa-4692-988b-abf2c27f782f",
   "metadata": {},
   "outputs": [],
   "source": [
    "# Add Horizontal wall's positions\n",
    "horizontal_walls[2][0]=True\n",
    "horizontal_walls[3][1]=True\n",
    "horizontal_walls[4][1]=True\n",
    "horizontal_walls[4][2]=True\n",
    "horizontal_walls[4][3]=True\n",
    "horizontal_walls[4][4]=True\n",
    "horizontal_walls[4][5]=True\n"
   ]
  },
  {
   "cell_type": "code",
   "execution_count": 99,
   "id": "c7e9a42e-8909-4ea9-9d52-4006d247720b",
   "metadata": {},
   "outputs": [],
   "source": [
    "# Add Vertical wall's positions\n",
    "vertical_walls[1][0]=True\n",
    "vertical_walls[2][0]=True\n",
    "vertical_walls[4][0]=True\n",
    "\n",
    "vertical_walls[1][1]=True\n",
    "vertical_walls[2][1]=True\n",
    "vertical_walls[3][1]=True\n",
    "\n",
    "vertical_walls[0][2]=True\n",
    "vertical_walls[1][2]=True\n",
    "vertical_walls[2][2]=True\n",
    "vertical_walls[3][2]=True\n",
    "\n",
    "vertical_walls[1][3]=True\n",
    "vertical_walls[2][3]=True\n",
    "vertical_walls[3][3]=True\n",
    "vertical_walls[4][3]=True\n",
    "\n",
    "vertical_walls[0][4]=True\n",
    "vertical_walls[1][4]=True\n",
    "vertical_walls[2][4]=True\n",
    "vertical_walls[3][4]=True\n",
    "\n",
    "vertical_walls[1][5]=True\n",
    "vertical_walls[2][5]=True\n",
    "vertical_walls[3][5]=True\n",
    "vertical_walls[4][5]=True"
   ]
  },
  {
   "cell_type": "code",
   "execution_count": 100,
   "id": "854b8cd9-c70f-48b4-9f41-5d386b00b38e",
   "metadata": {},
   "outputs": [],
   "source": [
    "# Manhattan distance\n",
    "def manhattan_distance(cell1, cell2):\n",
    "    return abs(cell1[0]-cell2[0]) + abs(cell1[1]-cell2[1])"
   ]
  },
  {
   "cell_type": "code",
   "execution_count": 101,
   "id": "c0a06eaa-1b94-43cd-9638-392d3efadf04",
   "metadata": {},
   "outputs": [],
   "source": [
    "# Heuristic function\n",
    "def heuristic_caclc (cell1, cell2, w):\n",
    "    return w*manhattan_distance(cell1, cell2)"
   ]
  },
  {
   "cell_type": "code",
   "execution_count": 102,
   "id": "5b923020-0cf2-4a5b-a441-d10612de11cd",
   "metadata": {},
   "outputs": [],
   "source": [
    "# Add a neighbor if there is no wall in that direction\n",
    "def get_neighbors(row, col):\n",
    "    neighbors = []\n",
    "    if row > 0 and not horizontal_walls[row - 1][col]:  # check North neighbor cell\n",
    "        neighbors.append((row - 1, col))\n",
    "    if row < rows - 1 and not horizontal_walls[row][col]:  # check South neighbor cell\n",
    "        neighbors.append((row + 1, col))\n",
    "    if col > 0 and not vertical_walls[row][col - 1]:  # check West neighbor cell\n",
    "        neighbors.append((row, col - 1))\n",
    "    if col < cols - 1 and not vertical_walls[row][col]:  # check East neighbor cell\n",
    "        neighbors.append((row, col + 1))\n",
    "    return neighbors"
   ]
  },
  {
   "cell_type": "code",
   "execution_count": 103,
   "id": "3ee87ee7-32f9-4fbc-bc28-336bffe57078",
   "metadata": {},
   "outputs": [],
   "source": [
    "# Cost of transition\n",
    "def transition_cost(current, neighbor):\n",
    "    default_transition_cost = 3\n",
    "    if (neighbor[1] > current[1]):\n",
    "        default_transition_cost+=5 # Additional cost moving east\n",
    "        \n",
    "    return default_transition_cost\n",
    "            "
   ]
  },
  {
   "cell_type": "code",
   "execution_count": 116,
   "id": "41ca1e3d-bf56-4153-9c8b-21b434e346a2",
   "metadata": {},
   "outputs": [],
   "source": [
    "# A* implemntation \n",
    "def find_path_with_A_star (start, goal, w =1.0):\n",
    "    open_list = []\n",
    "    heapq.heappush(open_list, (0 + heuristic_caclc(start, goal, w), 0, start))\n",
    "\n",
    "    comes_from = {}\n",
    "    g_cost = {start: 0}\n",
    "\n",
    "    while open_list:\n",
    "        _,current_g,current = heapq.heappop(open_list)\n",
    "\n",
    "        # Goal is found retrun path and cost\n",
    "        if current == goal:\n",
    "            path = []\n",
    "            while current in comes_from:\n",
    "                path.append(current)\n",
    "                current = comes_from[current]\n",
    "            path.append(start) \n",
    "            # Reverse the path to see from start to goal\n",
    "            path.reverse() \n",
    "            return path, g_cost[goal]\n",
    "            \n",
    "        # Explore all the neighbors\n",
    "        for neighbor in get_neighbors(*current): \n",
    "            cost = transition_cost(current, neighbor)\n",
    "            temp_g = current_g + cost\n",
    "            # Find best possible neighbor to be explored next\n",
    "            if neighbor not in g_cost or temp_g < g_cost[neighbor]: \n",
    "                g_cost[neighbor] = temp_g\n",
    "                f_cost = temp_g + heuristic_caclc(neighbor, goal, w)\n",
    "                heapq.heappush(open_list, (f_cost, temp_g, neighbor)) \n",
    "                comes_from[neighbor] = current\n",
    "\n",
    "    return None, None\n",
    "            "
   ]
  },
  {
   "cell_type": "code",
   "execution_count": 117,
   "id": "889f1664-3b25-44d9-817b-2f99bb3d69f7",
   "metadata": {},
   "outputs": [],
   "source": [
    "# Print path found and associated cost \n",
    "def print_path_cost(start, goal, w):\n",
    "    path, total_cost = find_path_with_A_star(start, goal, w)\n",
    "    if path:\n",
    "        print(\"Path found:\")\n",
    "        print(\" -> \".join(map(str, path)))\n",
    "        print(f\"Total cost: {total_cost}\")\n",
    "    else:\n",
    "        print(\"No path found.\")    "
   ]
  },
  {
   "cell_type": "code",
   "execution_count": 118,
   "id": "3c9ebe84-c27f-4a73-bc4d-00b93e5079e1",
   "metadata": {},
   "outputs": [
    {
     "name": "stdout",
     "output_type": "stream",
     "text": [
      "Path found:\n",
      "(3, 0) -> (4, 0) -> (5, 0) -> (5, 1) -> (5, 2) -> (5, 3) -> (5, 4) -> (5, 5) -> (5, 6) -> (4, 6) -> (3, 6)\n",
      "Total cost: 60\n"
     ]
    }
   ],
   "source": [
    "# Find path and cost when w = 1.0\n",
    "print_path_cost(start, goal, 1.0)"
   ]
  },
  {
   "cell_type": "code",
   "execution_count": 119,
   "id": "8710cc40-d4cc-4a4b-9c55-ededb1ef9fb9",
   "metadata": {},
   "outputs": [
    {
     "name": "stdout",
     "output_type": "stream",
     "text": [
      "Path found:\n",
      "(3, 0) -> (4, 0) -> (5, 0) -> (5, 1) -> (5, 2) -> (5, 3) -> (5, 4) -> (5, 5) -> (5, 6) -> (4, 6) -> (3, 6)\n",
      "Total cost: 60\n"
     ]
    }
   ],
   "source": [
    "# Find path and cost when w = 2.5\n",
    "print_path_cost(start, goal, 2.5)"
   ]
  },
  {
   "cell_type": "code",
   "execution_count": null,
   "id": "dfcdb44d-0bbd-49a5-ba17-caa3b1d977c3",
   "metadata": {},
   "outputs": [],
   "source": []
  }
 ],
 "metadata": {
  "kernelspec": {
   "display_name": "Python 3 (ipykernel)",
   "language": "python",
   "name": "python3"
  },
  "language_info": {
   "codemirror_mode": {
    "name": "ipython",
    "version": 3
   },
   "file_extension": ".py",
   "mimetype": "text/x-python",
   "name": "python",
   "nbconvert_exporter": "python",
   "pygments_lexer": "ipython3",
   "version": "3.10.5"
  }
 },
 "nbformat": 4,
 "nbformat_minor": 5
}
